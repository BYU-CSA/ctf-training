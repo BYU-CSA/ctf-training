{
 "cells": [
  {
   "cell_type": "code",
   "execution_count": null,
   "metadata": {},
   "outputs": [],
   "source": [
    "import torch\n",
    "import torch.nn as nn\n",
    "import torch.optim as optim\n",
    "from torchvision import datasets, transforms, models\n",
    "from torch.utils.data import DataLoader\n",
    "import os\n",
    "\n",
    "from tqdm import tqdm\n",
    "\n",
    "# Parameters\n",
    "data_dir = './data'\n",
    "batch_size = 32\n",
    "num_epochs = 1\n",
    "learning_rate = 0.001\n",
    "num_classes = 5  # Adjust this to match the number of classes\n",
    "\n",
    "# Check for device (GPU if available)\n",
    "device = torch.device(\"cuda\" if torch.cuda.is_available() else \"cpu\")\n",
    "\n",
    "# Data transforms for training and validation\n",
    "transform = transforms.Compose([\n",
    "    transforms.Resize((224, 224)),  # Resize to match ResNet input\n",
    "    transforms.ToTensor(),\n",
    "    transforms.Normalize([0.485, 0.456, 0.406], [0.229, 0.224, 0.225])\n",
    "])\n",
    "\n",
    "unnormalize\n",
    "\n",
    "# Load datasets\n",
    "train_dataset = datasets.ImageFolder(data_dir, transform=transform)\n",
    "val_dataset = datasets.ImageFolder(data_dir, transform=transform)\n",
    "\n",
    "# Data loaders\n",
    "train_loader = DataLoader(train_dataset, batch_size=batch_size, shuffle=True)\n",
    "val_loader = DataLoader(val_dataset, batch_size=batch_size, shuffle=False)\n",
    "\n",
    "# Load a pre-trained ResNet model\n",
    "model = models.resnet18()\n",
    "model.fc = nn.Linear(model.fc.in_features, num_classes)  # Modify the final layer to match our classes\n",
    "model = model.to(device)\n",
    "\n",
    "# Loss function and optimizer\n",
    "criterion = nn.CrossEntropyLoss()\n",
    "optimizer = optim.Adam(model.parameters(), lr=learning_rate)\n",
    "\n",
    "print(\"Starting training\")\n",
    "\n",
    "# Training loop\n",
    "for epoch in range(num_epochs):\n",
    "    model.train()\n",
    "    running_loss = 0.0\n",
    "\n",
    "    for images, labels in tqdm(train_loader):\n",
    "        images, labels = images.to(device), labels.to(device)\n",
    "        # print(labels)\n",
    "\n",
    "        # Forward pass\n",
    "        outputs = model(images)\n",
    "        loss = criterion(outputs, labels)\n",
    "\n",
    "        # Backward pass and optimization\n",
    "        optimizer.zero_grad()\n",
    "        loss.backward()\n",
    "        optimizer.step()\n",
    "\n",
    "        running_loss += loss.item()\n",
    "\n",
    "    print(f\"Epoch [{epoch+1}/{num_epochs}], Loss: {running_loss/len(train_loader):.4f}\")\n",
    "\n",
    "    # Validation phase\n",
    "    model.eval()\n",
    "    correct = 0\n",
    "    total = 0\n",
    "\n",
    "    with torch.no_grad():\n",
    "        for images, labels in val_loader:\n",
    "            images, labels = images.to(device), labels.to(device)\n",
    "            outputs = model(images)\n",
    "            _, predicted = torch.max(outputs, 1)\n",
    "            total += labels.size(0)\n",
    "            correct += (predicted == labels).sum().item()\n",
    "\n",
    "    accuracy = 100 * correct / total\n",
    "    print(f\"Validation Accuracy: {accuracy:.2f}%\")\n",
    "\n",
    "print(\"Training complete.\")"
   ]
  },
  {
   "cell_type": "code",
   "execution_count": 99,
   "metadata": {},
   "outputs": [
    {
     "name": "stdout",
     "output_type": "stream",
     "text": [
      "4 3\n"
     ]
    }
   ],
   "source": [
    "from PIL import Image\n",
    "\n",
    "label = 4\n",
    "\n",
    "sample_image = Image.open(f\"./data/dataset_{label+1}/00000315.jpg\")\n",
    "sample_image = transform(sample_image)\n",
    "sample_image = sample_image.unsqueeze(0)\n",
    "\n",
    "outputs = model(sample_image)\n",
    "_, predicted = torch.max(outputs, 1)\n",
    "print(label, int(predicted))"
   ]
  },
  {
   "cell_type": "code",
   "execution_count": 100,
   "metadata": {},
   "outputs": [
    {
     "name": "stderr",
     "output_type": "stream",
     "text": [
      "100%|██████████| 50/50 [00:08<00:00,  6.22it/s]\n"
     ]
    }
   ],
   "source": [
    "patch_size = 30\n",
    "patch = torch.rand(3, patch_size, patch_size, requires_grad=True, device=device)\n",
    "\n",
    "patch_optimizer = optim.Adam([patch], lr=0.1)\n",
    "criterion = nn.CrossEntropyLoss()\n",
    "\n",
    "model.eval()\n",
    "\n",
    "num_iters = 50\n",
    "for i in tqdm(range(num_iters)):\n",
    "    x, y = torch.randint(0, 224 - patch_size, (2,))\n",
    "    patched_image = sample_image.clone()\n",
    "    patched_image[0, :, x:x+patch_size, y:y+patch_size] = patch\n",
    "\n",
    "    output = model(patched_image)\n",
    "\n",
    "    # Compute loss\n",
    "    target = torch.tensor([1], device=device)\n",
    "    loss = criterion(output, target)\n",
    "\n",
    "    optimizer.zero_grad()\n",
    "    loss.backward()\n",
    "    optimizer.step()\n",
    "\n",
    "    # with torch.no_grad():\n",
    "    #     patch.clamp_(0, 1)\n"
   ]
  },
  {
   "cell_type": "code",
   "execution_count": 101,
   "metadata": {},
   "outputs": [
    {
     "ename": "SyntaxError",
     "evalue": "invalid syntax (991172563.py, line 28)",
     "output_type": "error",
     "traceback": [
      "\u001b[0;36m  Cell \u001b[0;32mIn[101], line 28\u001b[0;36m\u001b[0m\n\u001b[0;31m    Image.fromarray(unnormalized_image).save('./patches/adversarial_patch_in_image.png')1\u001b[0m\n\u001b[0m                                                                                        ^\u001b[0m\n\u001b[0;31mSyntaxError\u001b[0m\u001b[0;31m:\u001b[0m invalid syntax\n"
     ]
    }
   ],
   "source": [
    "\n",
    "def unnormalize(tensor, mean=[0.485, 0.456, 0.406], std=[0.229, 0.224, 0.225]):\n",
    "    \"\"\"\n",
    "    Unnormalizes a tensor by reversing the normalization applied in a Compose transform.\n",
    "    Args:\n",
    "        tensor (torch.Tensor): The normalized image tensor.\n",
    "        mean (list): The mean used in the Normalize transform.\n",
    "        std (list): The std deviation used in the Normalize transform.\n",
    "    Returns:\n",
    "        torch.Tensor: The unnormalized image tensor.\n",
    "    \"\"\"\n",
    "    mean = torch.tensor(mean).view(3, 1, 1)\n",
    "    std = torch.tensor(std).view(3, 1, 1)\n",
    "    return tensor * std + mean\n",
    "\n",
    "adversarial_patch = patch.detach().cpu()\n",
    "adversarial_patch_in_image = patched_image.detach().cpu()\n",
    "\n",
    "# Make the patch POP\n",
    "unnormalized_image  = unnormalize(adversarial_patch_in_image)\n",
    "unnormalized_image[0, :, x:x+patch_size, y:y+patch_size] = adversarial_patch\n",
    "unnormalized_image = unnormalized_image.squeeze(0).clamp(0, 1).numpy().transpose(1, 2, 0) * 255\n",
    "unnormalized_image = unnormalized_image.astype('uint8')\n",
    "\n",
    "adversarial_patch   = adversarial_patch.clamp(0, 1).numpy().transpose(1, 2, 0) * 255\n",
    "adversarial_patch   = adversarial_patch.astype('uint8')\n",
    "\n",
    "Image.fromarray(adversarial_patch).save('./patches/adversarial_patch.png')\n",
    "Image.fromarray(unnormalized_image).save('./patches/adversarial_patch_in_image.png')"
   ]
  }
 ],
 "metadata": {
  "kernelspec": {
   "display_name": "Python 3",
   "language": "python",
   "name": "python3"
  },
  "language_info": {
   "codemirror_mode": {
    "name": "ipython",
    "version": 3
   },
   "file_extension": ".py",
   "mimetype": "text/x-python",
   "name": "python",
   "nbconvert_exporter": "python",
   "pygments_lexer": "ipython3",
   "version": "3.10.12"
  }
 },
 "nbformat": 4,
 "nbformat_minor": 2
}
